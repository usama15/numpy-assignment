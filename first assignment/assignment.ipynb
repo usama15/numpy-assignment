{
 "cells": [
  {
   "cell_type": "code",
   "execution_count": 5,
   "metadata": {},
   "outputs": [],
   "source": [
    "from PIL import Image\n",
    "import os\n",
    "\n",
    "size_512 = (20, 200, 200, 3)\n",
    "\n",
    "for f in os.listdir(\".\"):\n",
    "    if f.endswith(\".jpg\"):\n",
    "        i = Image.open(f)\n",
    "        fn, fext = os.path.splitext(f)\n",
    "        \n",
    "        i.thumbnail(size_512)\n",
    "        i.save(\"my pic/{}_200{}\".format(fn, fext))\n"
   ]
  },
  {
   "cell_type": "code",
   "execution_count": null,
   "metadata": {},
   "outputs": [],
   "source": []
  },
  {
   "cell_type": "code",
   "execution_count": null,
   "metadata": {},
   "outputs": [],
   "source": []
  }
 ],
 "metadata": {
  "kernelspec": {
   "display_name": "Python 3",
   "language": "python",
   "name": "python3"
  },
  "language_info": {
   "codemirror_mode": {
    "name": "ipython",
    "version": 3
   },
   "file_extension": ".py",
   "mimetype": "text/x-python",
   "name": "python",
   "nbconvert_exporter": "python",
   "pygments_lexer": "ipython3",
   "version": "3.7.3"
  }
 },
 "nbformat": 4,
 "nbformat_minor": 2
}
